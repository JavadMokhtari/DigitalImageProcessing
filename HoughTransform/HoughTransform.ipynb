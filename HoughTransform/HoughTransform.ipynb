{
 "cells": [
  {
   "cell_type": "code",
   "execution_count": null,
   "metadata": {},
   "outputs": [],
   "source": [
    "import cv2\n",
    "import numpy as np\n",
    "import matplotlib.pyplot as plt"
   ]
  },
  {
   "cell_type": "code",
   "execution_count": null,
   "metadata": {},
   "outputs": [],
   "source": [
    "def resize_gray(img, ratio):\n",
    "    # Get the current size of the image\n",
    "    height, width , channels = img.shape\n",
    "\n",
    "    # Calculate the new dimensions of the image\n",
    "    new_height = int(height * ratio)\n",
    "    new_width = int(width * ratio)\n",
    "\n",
    "    # Resize the image using the new dimensions\n",
    "    resized_img = cv2.resize(img, (new_width, new_height))\n",
    "    return resized_img"
   ]
  },
  {
   "cell_type": "code",
   "execution_count": null,
   "metadata": {},
   "outputs": [],
   "source": [
    "# Load and Read image\n",
    "img_path = \"/home/javad_mtr/Projects/DigitalImageProcessing/HoughTransform/0722922_PE733774_S5.jpg\"\n",
    "gray_img = cv2.imread(img_path, cv2.COLOR_BGR2GRAY)\n",
    "\n",
    "# Resize image\n",
    "img = resize_gray(gray_img, 0.3)\n",
    "plt.imshow(img)"
   ]
  },
  {
   "cell_type": "code",
   "execution_count": null,
   "metadata": {},
   "outputs": [],
   "source": [
    "img = np.zeros((256, 256), dtype=np.uint8)\n",
    "for i in range(0, 256, 45):\n",
    "    img[i] = np.random.randint(200, 255)\n",
    "for j in range(0, 256, 65):\n",
    "    img[:, j] = np.random.randint(200, 255)"
   ]
  },
  {
   "cell_type": "code",
   "execution_count": null,
   "metadata": {},
   "outputs": [],
   "source": [
    "# Detect edges of image\n",
    "edges = cv2.Canny(img, threshold1=50, threshold2=150)\n",
    "edges = cv2.bitwise_not(edges)\n",
    "plt.imshow(edges, cmap=\"Greys\")"
   ]
  },
  {
   "cell_type": "code",
   "execution_count": null,
   "metadata": {},
   "outputs": [],
   "source": [
    "def hough_line(edge):\n",
    "    # Theta 0 - 180 degree\n",
    "    # Calculate 'cos' and 'sin' value ahead to improve running time\n",
    "    theta = np.arange(-90, 90, 0.5)\n",
    "    cos = np.cos(np.deg2rad(theta))\n",
    "    sin = np.sin(np.deg2rad(theta))\n",
    "\n",
    "    # Generate a accumulator matrix to store the values\n",
    "    rho_range = round(np.sqrt(edge.shape[0]**2 + edge.shape[1]**2))\n",
    "    accumulator = np.zeros((2 * rho_range, len(theta)), dtype=np.uint8)\n",
    "\n",
    "    # Threshold to get edges pixel location (x,y)\n",
    "    x, y = np.where(edge == 255)\n",
    "\n",
    "    # Calculate rho value for each edge location (x, y) with all the theta range\n",
    "    for p in range(len(x)):\n",
    "        for t in range(len(theta)):\n",
    "            rho = int(round(x[p] * cos[t] + y[p] * sin[t]))\n",
    "            accumulator[rho, t] += 1 \n",
    "\n",
    "    return accumulator"
   ]
  },
  {
   "cell_type": "code",
   "execution_count": null,
   "metadata": {},
   "outputs": [],
   "source": [
    "# Function to do hough line transform\n",
    "accumulator = hough_line(edges)\n",
    "\n",
    "# Threshold some high values then draw the line\n",
    "rho, theta = np.where(accumulator > 150)\n",
    "\n",
    "# Draw the detected lines on the image\n",
    "for p in range(len(rho)):\n",
    "    a = np.cos(theta[p])\n",
    "    b = np.sin(theta[p])\n",
    "    x0 = a * rho[p]\n",
    "    y0 = b * rho[p]\n",
    "    x1 = int(x0 + 1000 * (-b))\n",
    "    y1 = int(y0 + 1000 * (a))\n",
    "    x2 = int(x0 - 1000 * (-b))\n",
    "    y2 = int(y0 - 1000 * (a))\n",
    "    cv2.line(img, (x1, y1), (x2, y2), (255, 0, 0), 2)"
   ]
  },
  {
   "cell_type": "code",
   "execution_count": null,
   "metadata": {},
   "outputs": [],
   "source": [
    "# show result\n",
    "plt.figure(figsize=(12, 8))\n",
    "plt.subplot(121), plt.imshow(img)\n",
    "plt.subplot(122), plt.imshow(accumulator)\n",
    "plt.show()"
   ]
  }
 ],
 "metadata": {
  "kernelspec": {
   "display_name": "pytorch",
   "language": "python",
   "name": "python3"
  },
  "language_info": {
   "codemirror_mode": {
    "name": "ipython",
    "version": 3
   },
   "file_extension": ".py",
   "mimetype": "text/x-python",
   "name": "python",
   "nbconvert_exporter": "python",
   "pygments_lexer": "ipython3",
   "version": "3.10.6"
  },
  "orig_nbformat": 4
 },
 "nbformat": 4,
 "nbformat_minor": 2
}
